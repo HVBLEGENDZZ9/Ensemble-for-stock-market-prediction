{
 "cells": [
  {
   "cell_type": "code",
   "execution_count": 1,
   "id": "47b0a367",
   "metadata": {},
   "outputs": [],
   "source": [
    "import numpy as np"
   ]
  },
  {
   "cell_type": "code",
   "execution_count": 2,
   "id": "a0d0095d",
   "metadata": {},
   "outputs": [],
   "source": [
    "def dict_checker(word, company, dict):\n",
    "    '''\n",
    "    Args: \n",
    "        word : word that has to be checked\n",
    "        company : name of the company requested\n",
    "        dict : dictionary of the sensex companies\n",
    "    returns: BOOLEAN value, True if the word is in the dictionary and False if not\n",
    "    '''\n",
    "    from list_companies_sensex import return_sensex_list\n",
    "    l = return_sensex_list()\n",
    "    for i in l:\n",
    "        if(i==company):\n",
    "            pass\n",
    "        elif(word in dict[i]):\n",
    "            return True\n",
    "    return False"
   ]
  },
  {
   "cell_type": "code",
   "execution_count": 39,
   "id": "8b17e0bf",
   "metadata": {},
   "outputs": [],
   "source": [
    "def trash_post_checker(company, df):\n",
    "    '''\n",
    "    Args:\n",
    "        company : name of the company\n",
    "        messages : dataframe of company messages and timestamps\n",
    "    returns : edits the list of messages in a way where all the irrelevant posts are removed\n",
    "    '''\n",
    "    from list_of_importance import list_of_company_like_words\n",
    "    target_check = False\n",
    "    non_target_check = False\n",
    "    l = list_of_company_like_words()\n",
    "    to_be_dropped = []\n",
    "    for j,i in enumerate(df[\"Messages\"]):\n",
    "        for k in i.split():\n",
    "            if (k in l[company]):\n",
    "                target_check = True\n",
    "                break\n",
    "            elif(dict_checker(k, company, l)):\n",
    "                non_target_check = True\n",
    "        if(target_check==False and non_target_check==True):\n",
    "            to_be_dropped.append(j)\n",
    "    for i in to_be_dropped:\n",
    "        df.drop(index=i,inplace=True)\n",
    "#  for j,i in enumerate(df[\"A\"]):\n",
    "#         if(i==2):\n",
    "#             df.drop(index=j,inplace=True)"
   ]
  },
  {
   "cell_type": "code",
   "execution_count": 4,
   "id": "e0200163",
   "metadata": {},
   "outputs": [],
   "source": [
    "def get_posts(number_of_msgs, company):\n",
    "    '''\n",
    "    Args:\n",
    "        company: Name of the company listed in sensex.The name has to be taken from [this](https://tradebrains.in/sensex-30-companies-list/) list\n",
    "        number_of_msgs: Total number of posts that have to be scrapped\n",
    "    Returns:\n",
    "        -1 if the name of the company is invalid and a dataframe of the posts along with the time stamps otherwise\n",
    "    '''\n",
    "    from company_names_to_ids import company_to_id\n",
    "    import requests\n",
    "    import pandas as pd\n",
    "    import string\n",
    "    i = 0\n",
    "    j = 0\n",
    "    k = 1\n",
    "    messages = []\n",
    "    time_stamps = []\n",
    "    company_id = str(company_to_id(company))\n",
    "    if(company_id==-1):\n",
    "        return -1\n",
    "    lmid = \"\"\n",
    "    while(i<=number_of_msgs):\n",
    "        url = \"https://mmb.moneycontrol.com/index.php?q=topic/ajax_call&section=get_messages&is_topic_page=1&offset=10&lmid=\" + lmid + f\"&isp={j}&gmt=tp_lm&tid=\"+company_id+f\"&pgno={k}\"\n",
    "        r = requests.get(url, allow_redirects=True)\n",
    "        p = r.json()\n",
    "        l = 0\n",
    "        for l in range(len(p)):\n",
    "            messages.append(p[l][\"message\"])\n",
    "        lmid = p[len(p)-1][\"msg_id\"]\n",
    "        j+=1\n",
    "        k+=1\n",
    "        trash_post_checker(company, messages)\n",
    "        i = len(messages)\n",
    "    df = pd.DataFrame({\n",
    "    \"Messages\":messages\n",
    "    })\n",
    "    df = df.astype(str).apply(lambda x: x.str.encode('ascii', 'ignore').str.decode('ascii'))\n",
    "    return df"
   ]
  },
  {
   "cell_type": "code",
   "execution_count": 5,
   "id": "9546c338",
   "metadata": {},
   "outputs": [
    {
     "data": {
      "text/plain": [
       "['Reliance Industries',\n",
       " 'HDFC Bank Ltd.',\n",
       " 'Infosys Ltd.',\n",
       " 'ICICI Bank Ltd.',\n",
       " 'Housing Development Finance Corporation Ltd.',\n",
       " 'Tata Consultancy Services Ltd.',\n",
       " 'Kotak Mahindra Bank Ltd.',\n",
       " 'Larsen & Toubro Ltd.',\n",
       " 'Hindustan Unilever Ltd.',\n",
       " 'ITC Ltd.',\n",
       " 'Bajaj Finance Ltd.',\n",
       " 'AXIS Bank Ltd.',\n",
       " 'Bharti Airtel Ltd.',\n",
       " 'State Bank of India',\n",
       " 'Asian Paints Ltd.',\n",
       " 'HCL Technologies Ltd.',\n",
       " 'Bajaj Finserv',\n",
       " 'Tata Steel Ltd.',\n",
       " 'Tech Mahindra Ltd.',\n",
       " 'Maruti Suzuki India Ltd.',\n",
       " 'Titan Company Ltd',\n",
       " 'UltraTech Cement Ltd.',\n",
       " 'Sun Pharmaceutical Industries Ltd.',\n",
       " 'Mahindra & Mahindra Ltd.',\n",
       " 'Nestle India Ltd.',\n",
       " 'IndusInd Bank Ltd',\n",
       " 'POWERGRID',\n",
       " 'NTPC Ltd.',\n",
       " 'Dr.Reddy',\n",
       " 'Bajaj Auto Ltd.']"
      ]
     },
     "execution_count": 5,
     "metadata": {},
     "output_type": "execute_result"
    }
   ],
   "source": [
    "from list_companies_sensex import return_sensex_list\n",
    "l = return_sensex_list()\n",
    "l"
   ]
  },
  {
   "cell_type": "code",
   "execution_count": 6,
   "id": "50cfc871",
   "metadata": {},
   "outputs": [],
   "source": [
    "#we cannot use loops since the api has a limit\n",
    "# df1 = get_posts(100,'Reliance Industries')\n",
    "# df2 = get_posts(100,'HDFC Bank Ltd.')\n",
    "# df3 = get_posts(100,'Infosys Ltd.')\n",
    "# df4 = get_posts(100,'ICICI Bank Ltd.')\n",
    "# df5 = get_posts(100,'Housing Development Finance Corporation Ltd.')"
   ]
  },
  {
   "cell_type": "code",
   "execution_count": 7,
   "id": "9c6aa6e1",
   "metadata": {},
   "outputs": [],
   "source": [
    "# df6 = get_posts(100,'Tata Consultancy Services Ltd.')\n",
    "# df7 = get_posts(100,'Kotak Mahindra Bank Ltd.')\n",
    "# df8 = get_posts(100,'Larsen & Toubro Ltd.')\n",
    "# df9 = get_posts(100,'Hindustan Unilever Ltd.')\n",
    "# df10 = get_posts(100,'ITC Ltd.')"
   ]
  },
  {
   "cell_type": "code",
   "execution_count": 8,
   "id": "39fe55e1",
   "metadata": {},
   "outputs": [],
   "source": [
    "# df11 = get_posts(100,'Bajaj Finance Ltd.')\n",
    "# df12 = get_posts(100,'AXIS Bank Ltd.')\n",
    "# df13 = get_posts(100,'Bharti Airtel Ltd.')\n",
    "# df14 = get_posts(100,'State Bank of India')\n",
    "# df15 = get_posts(100,'Asian Paints Ltd.')"
   ]
  },
  {
   "cell_type": "code",
   "execution_count": 9,
   "id": "0ad20738",
   "metadata": {},
   "outputs": [],
   "source": [
    "# df16 = get_posts(100,'HCL Technologies Ltd.')\n",
    "# df17 = get_posts(100,'Bajaj Finserv')\n",
    "# df18 = get_posts(100,'Tata Steel Ltd.')\n",
    "# df19 = get_posts(100,'Tech Mahindra Ltd.')\n",
    "# df20 = get_posts(100,'Maruti Suzuki India Ltd.')"
   ]
  },
  {
   "cell_type": "code",
   "execution_count": 10,
   "id": "b2397284",
   "metadata": {},
   "outputs": [],
   "source": [
    "# # df21 = get_posts(100,'Titan Company Ltd')\n",
    "# df22 = get_posts(100,'UltraTech Cement Ltd.')\n",
    "# df23 = get_posts(100,'Sun Pharmaceutical Industries Ltd.')\n",
    "# df24 = get_posts(100,'Mahindra & Mahindra Ltd.')\n",
    "# df25 = get_posts(100,'Nestle India Ltd.')"
   ]
  },
  {
   "cell_type": "code",
   "execution_count": 11,
   "id": "970f765a",
   "metadata": {},
   "outputs": [],
   "source": [
    "# df26 = get_posts(100,'IndusInd Bank Ltd')\n",
    "# df27 = get_posts(100,'POWERGRID')\n",
    "# df28 = get_posts(100,'NTPC Ltd.') \n",
    "# df29 = get_posts(100,'Dr.Reddy')\n",
    "# df30 = get_posts(100,'Bajaj Auto Ltd.')"
   ]
  },
  {
   "cell_type": "code",
   "execution_count": 12,
   "id": "72c07841",
   "metadata": {},
   "outputs": [],
   "source": [
    "# frames = [df1,df2,df3,df4,df5,df6,df7,df8,df9,df10,\n",
    "#           df11,df12,df13,df14,df15,df16,df17,df18,df19,df20,\n",
    "#           df22,df23,df24,df25,df26,df27,df28,df29,df30]\n",
    "# df = pd.concat(frames)\n",
    "# df"
   ]
  },
  {
   "cell_type": "code",
   "execution_count": 13,
   "id": "d486cf0a",
   "metadata": {},
   "outputs": [],
   "source": [
    "# df.to_csv(\"moneycontrol_posts.csv\")"
   ]
  },
  {
   "cell_type": "code",
   "execution_count": 42,
   "id": "f2f8d02f",
   "metadata": {},
   "outputs": [],
   "source": [
    "def get_posts_with_date(number_of_msgs, company, start, end):\n",
    "    '''\n",
    "    Args:\n",
    "        company: Name of the company listed in sensex.The name has to be taken from [this](https://tradebrains.in/sensex-30-companies-list/) list\n",
    "        number_of_msgs: Total number of posts that have to be scrapped\n",
    "    Returns:\n",
    "        -1 if the name of the company is invalid and a dataframe of the posts along with the time stamps otherwise\n",
    "    '''\n",
    "    from company_names_to_ids import company_to_id\n",
    "    import requests\n",
    "    import pandas as pd\n",
    "    import string\n",
    "    i = 0\n",
    "    j = 0\n",
    "    k = 1\n",
    "    messages = []\n",
    "    time = []\n",
    "    company_id = str(company_to_id(company))\n",
    "    if(company_id==-1):\n",
    "        return -1\n",
    "    lmid = \"\"\n",
    "    while(i<=number_of_msgs):\n",
    "        url = \"https://mmb.moneycontrol.com/index.php?q=topic/ajax_call&section=get_messages&is_topic_page=1&offset=10&lmid=\" + lmid + f\"&isp={j}&gmt=tp_lm&tid=\"+company_id+f\"&pgno={k}\"\n",
    "        r = requests.get(url, allow_redirects=True)\n",
    "        p = r.json()\n",
    "        l = 0\n",
    "        for l in range(len(p)):\n",
    "            if(np.datetime64(p[l][\"ent_date\"])<end and start<np.datetime64(p[l][\"ent_date\"])):\n",
    "                messages.append(p[l][\"message\"])\n",
    "                time.append(np.datetime64(p[l][\"ent_date\"]))\n",
    "        lmid = p[len(p)-1][\"msg_id\"]\n",
    "        if(np.datetime64(p[len(p)-1][\"ent_date\"])<start):\n",
    "            break\n",
    "        j+=1\n",
    "        k+=1\n",
    "        x = pd.DataFrame({\n",
    "            \"Messages\":messages,\n",
    "            \"Time Stamp\":time\n",
    "            })\n",
    "        trash_post_checker(company, x)\n",
    "        messages = list(x[\"Messages\"])\n",
    "        time = list(x[\"Time Stamp\"])\n",
    "        i = len(messages)\n",
    "    print(len(messages))\n",
    "    print(len(time))\n",
    "    df = pd.DataFrame({\n",
    "    \"Messages\":messages,\n",
    "    \"Time Stamp\":time\n",
    "    })\n",
    "    df = df.astype(str).apply(lambda x: x.str.encode('ascii', 'ignore').str.decode('ascii')) # to remove emojis\n",
    "    return df"
   ]
  },
  {
   "cell_type": "code",
   "execution_count": 15,
   "id": "a42d05f9",
   "metadata": {},
   "outputs": [],
   "source": [
    "# p = get_posts_with_date(5000,\"HCL Technologies Ltd.\", np.datetime64(\"2021-09-30 15:30:00\"), np.datetime64(\"2022-01-31 09:30:00\"))"
   ]
  },
  {
   "cell_type": "code",
   "execution_count": 16,
   "id": "ddad4c2e",
   "metadata": {},
   "outputs": [
    {
     "data": {
      "text/plain": [
       "'\\nBiLstm\\nTCNN\\nLSTM + Attention\\nDeep attentive learning\\nMulti modal attention networks\\n'"
      ]
     },
     "execution_count": 16,
     "metadata": {},
     "output_type": "execute_result"
    }
   ],
   "source": [
    "# models to compete with\n",
    "'''\n",
    "BiLstm\n",
    "TCNN\n",
    "LSTM + Attention\n",
    "Deep attentive learning\n",
    "Multi modal attention networks\n",
    "'''"
   ]
  },
  {
   "cell_type": "code",
   "execution_count": 17,
   "id": "c1424c4c",
   "metadata": {},
   "outputs": [
    {
     "data": {
      "text/plain": [
       "'\\nTata steel\\nICICI\\nITC\\nHCL\\n'"
      ]
     },
     "execution_count": 17,
     "metadata": {},
     "output_type": "execute_result"
    }
   ],
   "source": [
    "'''\n",
    "Tata steel\n",
    "ICICI\n",
    "ITC\n",
    "HCL\n",
    "MARUTI SUZUKI\n",
    "'''"
   ]
  },
  {
   "cell_type": "markdown",
   "id": "8ca7b7e1",
   "metadata": {},
   "source": [
    "# PREPARING THE FINAL DATASET"
   ]
  },
  {
   "cell_type": "markdown",
   "id": "854bd463",
   "metadata": {},
   "source": [
    "### TATA STEEL"
   ]
  },
  {
   "cell_type": "code",
   "execution_count": 43,
   "id": "7812e094",
   "metadata": {},
   "outputs": [
    {
     "name": "stdout",
     "output_type": "stream",
     "text": [
      "2552\n",
      "2552\n"
     ]
    }
   ],
   "source": [
    "p = get_posts_with_date(50000,\"Tata Steel Ltd.\", np.datetime64(\"2021-11-12 20:50:00\"), np.datetime64(\"2022-02-10 20:50:00\"))"
   ]
  },
  {
   "cell_type": "code",
   "execution_count": 45,
   "id": "64c6baf0",
   "metadata": {},
   "outputs": [],
   "source": [
    "p.to_csv(\"tata_steel_final_posts.csv\")"
   ]
  },
  {
   "cell_type": "markdown",
   "id": "6946fb84",
   "metadata": {},
   "source": [
    "### ICICI BANK"
   ]
  },
  {
   "cell_type": "code",
   "execution_count": 46,
   "id": "f2c8e2ed",
   "metadata": {},
   "outputs": [
    {
     "name": "stdout",
     "output_type": "stream",
     "text": [
      "1402\n",
      "1402\n"
     ]
    }
   ],
   "source": [
    "p = get_posts_with_date(50000,\"ICICI Bank Ltd.\", np.datetime64(\"2021-11-12 20:50:00\"), np.datetime64(\"2022-02-10 20:50:00\"))"
   ]
  },
  {
   "cell_type": "code",
   "execution_count": 47,
   "id": "6346f5c5",
   "metadata": {},
   "outputs": [],
   "source": [
    "p.to_csv(\"icici_bank_final_posts.csv\")"
   ]
  },
  {
   "cell_type": "markdown",
   "id": "4043d537",
   "metadata": {},
   "source": [
    "### ITC"
   ]
  },
  {
   "cell_type": "code",
   "execution_count": 49,
   "id": "1aff6d51",
   "metadata": {},
   "outputs": [
    {
     "name": "stdout",
     "output_type": "stream",
     "text": [
      "2046\n",
      "2046\n"
     ]
    }
   ],
   "source": [
    "p = get_posts_with_date(50000,\"ITC Ltd.\", np.datetime64(\"2021-11-12 20:50:00\"), np.datetime64(\"2022-02-10 20:50:00\"))"
   ]
  },
  {
   "cell_type": "code",
   "execution_count": 50,
   "id": "1368e2ee",
   "metadata": {},
   "outputs": [],
   "source": [
    "p.to_csv(\"itc_final_posts.csv\")"
   ]
  },
  {
   "cell_type": "markdown",
   "id": "342038ec",
   "metadata": {},
   "source": [
    "### HCL TECHNOLOGIES"
   ]
  },
  {
   "cell_type": "code",
   "execution_count": 52,
   "id": "989775ac",
   "metadata": {},
   "outputs": [
    {
     "name": "stdout",
     "output_type": "stream",
     "text": [
      "1138\n",
      "1138\n"
     ]
    }
   ],
   "source": [
    "p = get_posts_with_date(50000,\"HCL Technologies Ltd.\", np.datetime64(\"2021-11-12 20:50:00\"), np.datetime64(\"2022-02-10 20:50:00\"))"
   ]
  },
  {
   "cell_type": "code",
   "execution_count": 54,
   "id": "6431dbc9",
   "metadata": {},
   "outputs": [],
   "source": [
    "p.to_csv(\"hcl_final_posts.csv\")"
   ]
  },
  {
   "cell_type": "markdown",
   "id": "74750223",
   "metadata": {},
   "source": [
    "### MARUTI SUZUKI"
   ]
  },
  {
   "cell_type": "code",
   "execution_count": 55,
   "id": "3db92640",
   "metadata": {},
   "outputs": [
    {
     "name": "stdout",
     "output_type": "stream",
     "text": [
      "960\n",
      "960\n"
     ]
    }
   ],
   "source": [
    "p = get_posts_with_date(50000,\"Maruti Suzuki India Ltd.\", np.datetime64(\"2021-11-12 20:50:00\"), np.datetime64(\"2022-02-10 20:50:00\"))"
   ]
  },
  {
   "cell_type": "code",
   "execution_count": 56,
   "id": "389b2d65",
   "metadata": {},
   "outputs": [],
   "source": [
    "p.to_csv(\"maruti_suzuki_final_posts.csv\")"
   ]
  },
  {
   "cell_type": "code",
   "execution_count": null,
   "id": "3612fa5d",
   "metadata": {},
   "outputs": [],
   "source": []
  },
  {
   "cell_type": "code",
   "execution_count": null,
   "id": "3fd8d848",
   "metadata": {},
   "outputs": [],
   "source": []
  }
 ],
 "metadata": {
  "kernelspec": {
   "display_name": "ws_env",
   "language": "python",
   "name": "ws_env"
  },
  "language_info": {
   "codemirror_mode": {
    "name": "ipython",
    "version": 3
   },
   "file_extension": ".py",
   "mimetype": "text/x-python",
   "name": "python",
   "nbconvert_exporter": "python",
   "pygments_lexer": "ipython3",
   "version": "3.9.1"
  }
 },
 "nbformat": 4,
 "nbformat_minor": 5
}
